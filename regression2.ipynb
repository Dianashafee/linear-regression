{
 "cells": [
  {
   "cell_type": "code",
   "execution_count": 25,
   "metadata": {},
   "outputs": [],
   "source": [
    "import pandas as pd\n",
    "import matplotlib.pyplot as plt\n",
    "from sklearn.linear_model import LinearRegression\n",
    "from sklearn.model_selection import train_test_split\n",
    "import datetime as dt\n"
   ]
  },
  {
   "cell_type": "code",
   "execution_count": 2,
   "metadata": {},
   "outputs": [
    {
     "data": {
      "text/html": [
       "<div>\n",
       "<style scoped>\n",
       "    .dataframe tbody tr th:only-of-type {\n",
       "        vertical-align: middle;\n",
       "    }\n",
       "\n",
       "    .dataframe tbody tr th {\n",
       "        vertical-align: top;\n",
       "    }\n",
       "\n",
       "    .dataframe thead th {\n",
       "        text-align: right;\n",
       "    }\n",
       "</style>\n",
       "<table border=\"1\" class=\"dataframe\">\n",
       "  <thead>\n",
       "    <tr style=\"text-align: right;\">\n",
       "      <th></th>\n",
       "      <th>Country</th>\n",
       "      <th>Region</th>\n",
       "      <th>Happiness Rank</th>\n",
       "      <th>Happiness Score</th>\n",
       "      <th>Standard Error</th>\n",
       "      <th>Economy (GDP per Capita)</th>\n",
       "      <th>Family</th>\n",
       "      <th>Health (Life Expectancy)</th>\n",
       "      <th>Freedom</th>\n",
       "      <th>Trust (Government Corruption)</th>\n",
       "      <th>Generosity</th>\n",
       "      <th>Dystopia Residual</th>\n",
       "    </tr>\n",
       "  </thead>\n",
       "  <tbody>\n",
       "    <tr>\n",
       "      <th>0</th>\n",
       "      <td>Switzerland</td>\n",
       "      <td>Western Europe</td>\n",
       "      <td>1</td>\n",
       "      <td>7.587</td>\n",
       "      <td>0.03411</td>\n",
       "      <td>1.39651</td>\n",
       "      <td>1.34951</td>\n",
       "      <td>0.94143</td>\n",
       "      <td>0.66557</td>\n",
       "      <td>0.41978</td>\n",
       "      <td>0.29678</td>\n",
       "      <td>2.51738</td>\n",
       "    </tr>\n",
       "    <tr>\n",
       "      <th>1</th>\n",
       "      <td>Iceland</td>\n",
       "      <td>Western Europe</td>\n",
       "      <td>2</td>\n",
       "      <td>7.561</td>\n",
       "      <td>0.04884</td>\n",
       "      <td>1.30232</td>\n",
       "      <td>1.40223</td>\n",
       "      <td>0.94784</td>\n",
       "      <td>0.62877</td>\n",
       "      <td>0.14145</td>\n",
       "      <td>0.43630</td>\n",
       "      <td>2.70201</td>\n",
       "    </tr>\n",
       "    <tr>\n",
       "      <th>2</th>\n",
       "      <td>Denmark</td>\n",
       "      <td>Western Europe</td>\n",
       "      <td>3</td>\n",
       "      <td>7.527</td>\n",
       "      <td>0.03328</td>\n",
       "      <td>1.32548</td>\n",
       "      <td>1.36058</td>\n",
       "      <td>0.87464</td>\n",
       "      <td>0.64938</td>\n",
       "      <td>0.48357</td>\n",
       "      <td>0.34139</td>\n",
       "      <td>2.49204</td>\n",
       "    </tr>\n",
       "    <tr>\n",
       "      <th>3</th>\n",
       "      <td>Norway</td>\n",
       "      <td>Western Europe</td>\n",
       "      <td>4</td>\n",
       "      <td>7.522</td>\n",
       "      <td>0.03880</td>\n",
       "      <td>1.45900</td>\n",
       "      <td>1.33095</td>\n",
       "      <td>0.88521</td>\n",
       "      <td>0.66973</td>\n",
       "      <td>0.36503</td>\n",
       "      <td>0.34699</td>\n",
       "      <td>2.46531</td>\n",
       "    </tr>\n",
       "    <tr>\n",
       "      <th>4</th>\n",
       "      <td>Canada</td>\n",
       "      <td>North America</td>\n",
       "      <td>5</td>\n",
       "      <td>7.427</td>\n",
       "      <td>0.03553</td>\n",
       "      <td>1.32629</td>\n",
       "      <td>1.32261</td>\n",
       "      <td>0.90563</td>\n",
       "      <td>0.63297</td>\n",
       "      <td>0.32957</td>\n",
       "      <td>0.45811</td>\n",
       "      <td>2.45176</td>\n",
       "    </tr>\n",
       "  </tbody>\n",
       "</table>\n",
       "</div>"
      ],
      "text/plain": [
       "       Country          Region  Happiness Rank  Happiness Score  \\\n",
       "0  Switzerland  Western Europe               1            7.587   \n",
       "1      Iceland  Western Europe               2            7.561   \n",
       "2      Denmark  Western Europe               3            7.527   \n",
       "3       Norway  Western Europe               4            7.522   \n",
       "4       Canada   North America               5            7.427   \n",
       "\n",
       "   Standard Error  Economy (GDP per Capita)   Family  \\\n",
       "0         0.03411                   1.39651  1.34951   \n",
       "1         0.04884                   1.30232  1.40223   \n",
       "2         0.03328                   1.32548  1.36058   \n",
       "3         0.03880                   1.45900  1.33095   \n",
       "4         0.03553                   1.32629  1.32261   \n",
       "\n",
       "   Health (Life Expectancy)  Freedom  Trust (Government Corruption)  \\\n",
       "0                   0.94143  0.66557                        0.41978   \n",
       "1                   0.94784  0.62877                        0.14145   \n",
       "2                   0.87464  0.64938                        0.48357   \n",
       "3                   0.88521  0.66973                        0.36503   \n",
       "4                   0.90563  0.63297                        0.32957   \n",
       "\n",
       "   Generosity  Dystopia Residual  \n",
       "0     0.29678            2.51738  \n",
       "1     0.43630            2.70201  \n",
       "2     0.34139            2.49204  \n",
       "3     0.34699            2.46531  \n",
       "4     0.45811            2.45176  "
      ]
     },
     "execution_count": 2,
     "metadata": {},
     "output_type": "execute_result"
    }
   ],
   "source": [
    "hpy = pd.read_csv('./happiness.csv')\n",
    "hpy.head(5)\n"
   ]
  },
  {
   "cell_type": "markdown",
   "metadata": {},
   "source": [
    "## **Select features to build the model**"
   ]
  },
  {
   "cell_type": "code",
   "execution_count": 3,
   "metadata": {},
   "outputs": [
    {
     "data": {
      "text/plain": [
       "array([0.94143, 0.94784, 0.87464, 0.88521, 0.90563, 0.88911, 0.89284,\n",
       "       0.91087, 0.90837, 0.93156, 0.91387, 0.86027, 0.89042, 0.81444,\n",
       "       0.86179, 0.69702, 0.91894, 0.89533, 0.89667, 0.80925, 0.90943,\n",
       "       0.76276, 0.72052, 1.02525, 0.79661, 0.89186, 0.85857, 0.79733,\n",
       "       0.94579, 0.78723, 0.84483, 0.8116 , 0.69077, 0.7385 , 0.72025,\n",
       "       0.95562, 0.88721, 0.8753 , 0.72492, 0.6082 , 0.61483, 0.67737,\n",
       "       0.64425, 0.59772, 0.78902, 0.99111, 0.96538, 0.79075, 0.74716,\n",
       "       0.95446, 0.5392 , 0.61826, 0.66098, 0.64368, 0.87337, 0.73128,\n",
       "       0.74314, 0.73017, 0.73608, 0.77903, 0.72394, 0.78805, 0.7038 ,\n",
       "       0.66926, 0.68741, 0.92356, 0.92356, 0.61766, 0.63132, 0.53886,\n",
       "       0.7095 , 1.01328, 0.77361, 0.63793, 0.74676, 0.73172, 0.65088,\n",
       "       0.16007, 0.57407, 0.64045, 0.51466, 0.69639, 0.72521, 0.81658,\n",
       "       0.29924, 0.7689 , 0.74836, 0.87519, 0.72437, 0.58114, 0.43873,\n",
       "       0.60954, 0.73545, 0.09131, 0.81325, 0.79081, 0.07612, 0.66825,\n",
       "       0.54909, 0.60268, 0.07566, 0.88213, 0.83947, 0.75905, 0.6951 ,\n",
       "       0.57379, 0.73793, 0.66015, 0.60164, 0.69805, 0.6739 , 0.60237,\n",
       "       0.27688, 0.40132, 0.33475, 0.34201, 0.51529, 0.36878, 0.38847,\n",
       "       0.09806, 0.56874, 0.44055, 0.     , 0.35874, 0.41435, 0.36291,\n",
       "       0.7299 , 0.04776, 0.48246, 0.72926, 0.22562, 0.70806, 0.23402,\n",
       "       0.76649, 0.61712, 0.40064, 0.16683, 0.20583, 0.31051, 0.36315,\n",
       "       0.33861, 0.4354 , 0.43372, 0.29707, 0.61114, 0.38215, 0.46721,\n",
       "       0.06699, 0.1501 , 0.24009, 0.15185, 0.27125, 0.30335, 0.42864,\n",
       "       0.3191 , 0.72193, 0.22396, 0.28443])"
      ]
     },
     "execution_count": 3,
     "metadata": {},
     "output_type": "execute_result"
    }
   ],
   "source": [
    "X = hpy['Health (Life Expectancy)'].values\n",
    "X"
   ]
  },
  {
   "cell_type": "code",
   "execution_count": 4,
   "metadata": {},
   "outputs": [],
   "source": [
    "Y = hpy['Happiness Score'].values\n",
    "Y\n",
    "X = X.reshape(-1,1)"
   ]
  },
  {
   "cell_type": "code",
   "execution_count": 5,
   "metadata": {},
   "outputs": [],
   "source": [
    "x_train, x_test, y_train, y_test = train_test_split(X, Y, train_size=0.8, test_size=0.2, random_state=100)"
   ]
  },
  {
   "cell_type": "code",
   "execution_count": 6,
   "metadata": {},
   "outputs": [
    {
     "data": {
      "image/png": "[encoded data removed]",
      "text/plain": [
       "<Figure size 432x288 with 1 Axes>"
      ]
     },
     "metadata": {
      "needs_background": "light"
     },
     "output_type": "display_data"
    }
   ],
   "source": [
    "%matplotlib inline\n",
    "plt.scatter(x_train, y_train, color='blue')\n",
    "plt.xlabel('Health (Life Expectancy)')\n",
    "plt.ylabel('Happiness Score')\n",
    "plt.title('Training Data')\n",
    "plt.show()"
   ]
  },
  {
   "cell_type": "markdown",
   "metadata": {},
   "source": [
    "### Linear Regression Model"
   ]
  },
  {
   "cell_type": "code",
   "execution_count": null,
   "metadata": {},
   "outputs": [],
   "source": [
    "\n"
   ]
  },
  {
   "cell_type": "code",
   "execution_count": 7,
   "metadata": {},
   "outputs": [
    {
     "data": {
      "text/plain": [
       "LinearRegression()"
      ]
     },
     "execution_count": 7,
     "metadata": {},
     "output_type": "execute_result"
    }
   ],
   "source": [
    "model = LinearRegression()\n",
    "model.fit(x_train, y_train)"
   ]
  },
  {
   "cell_type": "code",
   "execution_count": 8,
   "metadata": {},
   "outputs": [],
   "source": [
    "y_predict = model.predict(x_test)"
   ]
  },
  {
   "cell_type": "code",
   "execution_count": 9,
   "metadata": {},
   "outputs": [
    {
     "data": {
      "text/plain": [
       "array([6.52507804, 6.10024814, 4.6523717 , 5.57018483, 6.26454341,\n",
       "       4.61006405, 5.69496482, 6.38458286, 6.03271174, 5.31445567,\n",
       "       5.94221946, 5.37832302, 6.09472834, 5.86309148, 5.47677031,\n",
       "       5.6589887 , 5.50638242, 5.30331866, 5.83646656, 4.34310047,\n",
       "       6.14278308, 5.54989145, 5.80357503, 3.52451389, 6.44153422,\n",
       "       4.23052898, 4.73744159, 6.25986781, 6.37792663, 3.82673926,\n",
       "       4.485349  , 4.48612827])"
      ]
     },
     "execution_count": 9,
     "metadata": {},
     "output_type": "execute_result"
    }
   ],
   "source": [
    "y_predict"
   ]
  },
  {
   "cell_type": "code",
   "execution_count": 10,
   "metadata": {},
   "outputs": [
    {
     "data": {
      "text/plain": [
       "array([5.987, 7.226, 4.419, 6.983, 7.364, 4.633, 5.007, 7.561, 4.839,\n",
       "       5.889, 6.485, 5.399, 6.67 , 6.574, 4.885, 5.098, 6.13 , 6.168,\n",
       "       5.791, 3.34 , 5.848, 6.477, 5.124, 3.678, 5.984, 2.839, 4.512,\n",
       "       6.867, 6.575, 5.268, 4.369, 3.956])"
      ]
     },
     "execution_count": 10,
     "metadata": {},
     "output_type": "execute_result"
    }
   ],
   "source": [
    "y_test"
   ]
  },
  {
   "cell_type": "code",
   "execution_count": 11,
   "metadata": {},
   "outputs": [
    {
     "name": "stdout",
     "output_type": "stream",
     "text": [
      "Testing Accuracy: 58.24988850720467%\n"
     ]
    }
   ],
   "source": [
    "print(f'Testing Accuracy: {model.score(x_test, y_test)*100}%')"
   ]
  },
  {
   "cell_type": "code",
   "execution_count": 12,
   "metadata": {},
   "outputs": [
    {
     "name": "stdout",
     "output_type": "stream",
     "text": [
      "Training Accuracy: 50.27924460142654%\n"
     ]
    }
   ],
   "source": [
    "print(f'Training Accuracy: {model.score(x_train, y_train)*100}%')"
   ]
  },
  {
   "cell_type": "code",
   "execution_count": 13,
   "metadata": {},
   "outputs": [
    {
     "data": {
      "image/png": "[encoded data removed]",
      "text/plain": [
       "<Figure size 432x288 with 1 Axes>"
      ]
     },
     "metadata": {
      "needs_background": "light"
     },
     "output_type": "display_data"
    }
   ],
   "source": [
    "%matplotlib inline\n",
    "plt.scatter(x_train, y_train, color='blue')\n",
    "plt.scatter(x_test, y_test, color='y')\n",
    "plt.plot(x_test, y_predict, color='red')\n",
    "plt.xlabel('Health (Life Expectancy)')\n",
    "plt.ylabel('Happiness Score')\n",
    "plt.title('Training Data')\n",
    "plt.show()"
   ]
  },
  {
   "cell_type": "markdown",
   "metadata": {},
   "source": [
    "## The Conclusion is ---> it is not more than 50% proven study, that your health condition affect you score of happiness ^.^"
   ]
  },
  {
   "cell_type": "markdown",
   "metadata": {},
   "source": [
    "<hr>\n",
    "<hr>\n",
    "\n",
    "# *Other featurs for other MODEL :D*\n",
    "\n"
   ]
  },
  {
   "cell_type": "code",
   "execution_count": 14,
   "metadata": {},
   "outputs": [
    {
     "data": {
      "text/plain": [
       "array([1.39651, 1.30232, 1.32548, 1.459  , 1.32629, 1.29025, 1.32944,\n",
       "       1.33171, 1.25018, 1.33358, 1.22857, 0.95578, 1.33723, 1.02054,\n",
       "       1.39451, 0.98124, 1.56391, 1.33596, 1.30782, 1.42727, 1.26637,\n",
       "       1.36011, 1.04424, 1.52186, 1.06353, 1.32792, 1.10715, 1.69042,\n",
       "       1.27778, 1.05351, 1.17898, 1.06166, 0.91861, 0.9669 , 1.39541,\n",
       "       1.23011, 1.2074 , 1.29098, 1.55422, 0.99534, 1.21183, 0.76454,\n",
       "       0.74553, 0.63244, 1.16891, 1.27074, 1.24461, 0.86402, 1.32376,\n",
       "       1.25114, 0.68133, 0.59448, 0.75985, 1.12254, 1.18498, 1.14723,\n",
       "       0.59325, 0.90019, 1.03192, 1.12555, 1.12486, 1.08254, 1.13145,\n",
       "       1.13764, 0.81038, 1.20806, 1.20813, 0.93929, 0.80148, 0.95847,\n",
       "       1.00761, 1.38604, 1.15174, 0.82827, 0.63216, 1.06098, 0.47428,\n",
       "       0.65435, 0.77042, 1.02389, 0.59543, 0.90198, 0.97438, 0.89012,\n",
       "       0.47038, 1.04345, 0.92053, 1.15991, 1.11312, 0.70532, 0.18847,\n",
       "       0.73479, 0.91851, 0.08308, 0.87867, 0.83223, 0.37545, 0.89537,\n",
       "       0.59066, 0.82819, 0.71206, 1.15406, 1.02564, 1.12094, 0.59532,\n",
       "       0.39047, 0.88113, 0.59867, 0.39753, 1.0088 , 0.79907, 0.98549,\n",
       "       0.92049, 0.54558, 0.271  , 0.0712 , 0.64499, 0.52107, 0.26673,\n",
       "       0.     , 0.35997, 0.19073, 0.33024, 0.45407, 0.36471, 0.44025,\n",
       "       0.76821, 0.99355, 0.27108, 0.7419 , 0.01604, 0.83524, 0.4225 ,\n",
       "       1.01216, 0.8818 , 0.54649, 0.75778, 0.26074, 0.67866, 0.23906,\n",
       "       0.21102, 0.36498, 1.06024, 0.0694 , 0.46038, 0.2852 , 0.20824,\n",
       "       0.0785 , 0.34193, 0.17417, 0.46534, 0.25812, 0.31982, 0.22208,\n",
       "       0.28665, 0.6632 , 0.0153 , 0.20868])"
      ]
     },
     "execution_count": 14,
     "metadata": {},
     "output_type": "execute_result"
    }
   ],
   "source": [
    "X = hpy['Economy (GDP per Capita)'].values\n",
    "X"
   ]
  },
  {
   "cell_type": "code",
   "execution_count": 15,
   "metadata": {},
   "outputs": [],
   "source": [
    "Y = hpy['Happiness Score'].values\n",
    "Y\n",
    "X = X.reshape(-1,1)"
   ]
  },
  {
   "cell_type": "code",
   "execution_count": 16,
   "metadata": {},
   "outputs": [],
   "source": [
    "x_train, x_test, y_train, y_test = train_test_split(X, Y, train_size=0.8, test_size=0.2, random_state=100)"
   ]
  },
  {
   "cell_type": "code",
   "execution_count": 17,
   "metadata": {},
   "outputs": [
    {
     "data": {
      "image/png": "[encoded data removed]",
      "text/plain": [
       "<Figure size 432x288 with 1 Axes>"
      ]
     },
     "metadata": {
      "needs_background": "light"
     },
     "output_type": "display_data"
    }
   ],
   "source": [
    "%matplotlib inline\n",
    "plt.scatter(x_train, y_train, color='blue')\n",
    "plt.xlabel('Economy (GDP per Capita)')\n",
    "plt.ylabel('Happiness Score')\n",
    "plt.title('Training Data')\n",
    "plt.show()"
   ]
  },
  {
   "cell_type": "markdown",
   "metadata": {},
   "source": [
    "## Linear Regression Model"
   ]
  },
  {
   "cell_type": "code",
   "execution_count": 18,
   "metadata": {},
   "outputs": [
    {
     "data": {
      "text/plain": [
       "LinearRegression()"
      ]
     },
     "execution_count": 18,
     "metadata": {},
     "output_type": "execute_result"
    }
   ],
   "source": [
    "model = LinearRegression()\n",
    "model.fit(x_train, y_train)"
   ]
  },
  {
   "cell_type": "code",
   "execution_count": 19,
   "metadata": {},
   "outputs": [
    {
     "data": {
      "text/plain": [
       "array([6.24447664, 5.57036189, 4.30528376, 5.6248544 , 6.37497187,\n",
       "       4.69240319, 5.49059222, 6.31206791, 5.71988455, 4.79706477,\n",
       "       5.79697883, 5.29744986, 5.89434192, 5.77953523, 5.44106524,\n",
       "       5.90711962, 5.16104736, 6.11839047, 5.93372378, 4.13821049,\n",
       "       6.06092292, 5.49080625, 5.75800363, 3.69270317, 6.18855012,\n",
       "       3.97132985, 3.93291113, 6.23512345, 6.25954449, 4.92520565,\n",
       "       4.46696343, 4.03635273])"
      ]
     },
     "execution_count": 19,
     "metadata": {},
     "output_type": "execute_result"
    }
   ],
   "source": [
    "y_predict = model.predict(x_test)\n",
    "y_predict"
   ]
  },
  {
   "cell_type": "code",
   "execution_count": 20,
   "metadata": {},
   "outputs": [
    {
     "data": {
      "text/plain": [
       "array([5.987, 7.226, 4.419, 6.983, 7.364, 4.633, 5.007, 7.561, 4.839,\n",
       "       5.889, 6.485, 5.399, 6.67 , 6.574, 4.885, 5.098, 6.13 , 6.168,\n",
       "       5.791, 3.34 , 5.848, 6.477, 5.124, 3.678, 5.984, 2.839, 4.512,\n",
       "       6.867, 6.575, 5.268, 4.369, 3.956])"
      ]
     },
     "execution_count": 20,
     "metadata": {},
     "output_type": "execute_result"
    }
   ],
   "source": [
    "y_test"
   ]
  },
  {
   "cell_type": "code",
   "execution_count": 21,
   "metadata": {},
   "outputs": [
    {
     "name": "stdout",
     "output_type": "stream",
     "text": [
      "Testing Accuracy: 61.31385721308122%\n"
     ]
    }
   ],
   "source": [
    "print(f'Testing Accuracy: {model.score(x_test, y_test)*100}%')"
   ]
  },
  {
   "cell_type": "code",
   "execution_count": 22,
   "metadata": {},
   "outputs": [
    {
     "name": "stdout",
     "output_type": "stream",
     "text": [
      "Training Accuracy: 60.30754808820908%\n"
     ]
    }
   ],
   "source": [
    "print(f'Training Accuracy: {model.score(x_train, y_train)*100}%')"
   ]
  },
  {
   "cell_type": "markdown",
   "metadata": {},
   "source": [
    "## the conclusion ---> Economy (GDP per Capita) is affecting around 60% of the person's score of happiness "
   ]
  },
  {
   "cell_type": "code",
   "execution_count": 26,
   "metadata": {},
   "outputs": [
    {
     "data": {
      "image/png": "[encoded data removed]",
      "text/plain": [
       "<Figure size 432x288 with 1 Axes>"
      ]
     },
     "metadata": {
      "needs_background": "light"
     },
     "output_type": "display_data"
    }
   ],
   "source": [
    "%matplotlib inline\n",
    "plt.scatter(x_train, y_train, color='blue')\n",
    "plt.scatter(x_test, y_test, color='y')\n",
    "plt.plot(x_test, y_predict, color='red')\n",
    "plt.xlabel('Economy (GDP per Capita)')\n",
    "plt.ylabel('Happiness Score')\n",
    "plt.title('Training Data')\n",
    "plt.show()"
   ]
  },
  {
   "cell_type": "code",
   "execution_count": null,
   "metadata": {},
   "outputs": [],
   "source": []
  }
 ],
 "metadata": {
  "kernelspec": {
   "display_name": "Python 3",
   "language": "python",
   "name": "python3"
  },
  "language_info": {
   "codemirror_mode": {
    "name": "ipython",
    "version": 3
   },
   "file_extension": ".py",
   "mimetype": "text/x-python",
   "name": "python",
   "nbconvert_exporter": "python",
   "pygments_lexer": "ipython3",
   "version": "3.9.0"
  }
 },
 "nbformat": 4,
 "nbformat_minor": 4
}
