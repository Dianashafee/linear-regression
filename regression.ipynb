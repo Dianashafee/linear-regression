{
 "cells": [
  {
   "cell_type": "code",
   "execution_count": 1,
   "metadata": {},
   "outputs": [],
   "source": [
    "import pandas as pd\n",
    "import matplotlib.pyplot as plt\n",
    "from sklearn.linear_model import LinearRegression\n",
    "from sklearn.model_selection import train_test_split "
   ]
  },
  {
   "cell_type": "code",
   "execution_count": 2,
   "metadata": {},
   "outputs": [
    {
     "data": {
      "text/html": [
       "<div>\n",
       "<style scoped>\n",
       "    .dataframe tbody tr th:only-of-type {\n",
       "        vertical-align: middle;\n",
       "    }\n",
       "\n",
       "    .dataframe tbody tr th {\n",
       "        vertical-align: top;\n",
       "    }\n",
       "\n",
       "    .dataframe thead th {\n",
       "        text-align: right;\n",
       "    }\n",
       "</style>\n",
       "<table border=\"1\" class=\"dataframe\">\n",
       "  <thead>\n",
       "    <tr style=\"text-align: right;\">\n",
       "      <th></th>\n",
       "      <th>Brand</th>\n",
       "      <th>Price</th>\n",
       "      <th>Body</th>\n",
       "      <th>Mileage</th>\n",
       "      <th>EngineV</th>\n",
       "      <th>Engine Type</th>\n",
       "      <th>Registration</th>\n",
       "      <th>Year</th>\n",
       "      <th>Model</th>\n",
       "    </tr>\n",
       "  </thead>\n",
       "  <tbody>\n",
       "    <tr>\n",
       "      <th>0</th>\n",
       "      <td>BMW</td>\n",
       "      <td>4200.0</td>\n",
       "      <td>sedan</td>\n",
       "      <td>277</td>\n",
       "      <td>2.0</td>\n",
       "      <td>Petrol</td>\n",
       "      <td>yes</td>\n",
       "      <td>1991</td>\n",
       "      <td>320</td>\n",
       "    </tr>\n",
       "    <tr>\n",
       "      <th>1</th>\n",
       "      <td>Mercedes-Benz</td>\n",
       "      <td>7900.0</td>\n",
       "      <td>van</td>\n",
       "      <td>427</td>\n",
       "      <td>2.9</td>\n",
       "      <td>Diesel</td>\n",
       "      <td>yes</td>\n",
       "      <td>1999</td>\n",
       "      <td>Sprinter 212</td>\n",
       "    </tr>\n",
       "    <tr>\n",
       "      <th>2</th>\n",
       "      <td>Mercedes-Benz</td>\n",
       "      <td>13300.0</td>\n",
       "      <td>sedan</td>\n",
       "      <td>358</td>\n",
       "      <td>5.0</td>\n",
       "      <td>Gas</td>\n",
       "      <td>yes</td>\n",
       "      <td>2003</td>\n",
       "      <td>S 500</td>\n",
       "    </tr>\n",
       "    <tr>\n",
       "      <th>3</th>\n",
       "      <td>Audi</td>\n",
       "      <td>23000.0</td>\n",
       "      <td>crossover</td>\n",
       "      <td>240</td>\n",
       "      <td>4.2</td>\n",
       "      <td>Petrol</td>\n",
       "      <td>yes</td>\n",
       "      <td>2007</td>\n",
       "      <td>Q7</td>\n",
       "    </tr>\n",
       "    <tr>\n",
       "      <th>4</th>\n",
       "      <td>Toyota</td>\n",
       "      <td>18300.0</td>\n",
       "      <td>crossover</td>\n",
       "      <td>120</td>\n",
       "      <td>2.0</td>\n",
       "      <td>Petrol</td>\n",
       "      <td>yes</td>\n",
       "      <td>2011</td>\n",
       "      <td>Rav 4</td>\n",
       "    </tr>\n",
       "    <tr>\n",
       "      <th>...</th>\n",
       "      <td>...</td>\n",
       "      <td>...</td>\n",
       "      <td>...</td>\n",
       "      <td>...</td>\n",
       "      <td>...</td>\n",
       "      <td>...</td>\n",
       "      <td>...</td>\n",
       "      <td>...</td>\n",
       "      <td>...</td>\n",
       "    </tr>\n",
       "    <tr>\n",
       "      <th>4339</th>\n",
       "      <td>Toyota</td>\n",
       "      <td>17900.0</td>\n",
       "      <td>sedan</td>\n",
       "      <td>35</td>\n",
       "      <td>1.6</td>\n",
       "      <td>Petrol</td>\n",
       "      <td>yes</td>\n",
       "      <td>2014</td>\n",
       "      <td>Corolla</td>\n",
       "    </tr>\n",
       "    <tr>\n",
       "      <th>4340</th>\n",
       "      <td>Mercedes-Benz</td>\n",
       "      <td>125000.0</td>\n",
       "      <td>sedan</td>\n",
       "      <td>9</td>\n",
       "      <td>3.0</td>\n",
       "      <td>Diesel</td>\n",
       "      <td>yes</td>\n",
       "      <td>2014</td>\n",
       "      <td>S 350</td>\n",
       "    </tr>\n",
       "    <tr>\n",
       "      <th>4341</th>\n",
       "      <td>BMW</td>\n",
       "      <td>6500.0</td>\n",
       "      <td>sedan</td>\n",
       "      <td>1</td>\n",
       "      <td>3.5</td>\n",
       "      <td>Petrol</td>\n",
       "      <td>yes</td>\n",
       "      <td>1999</td>\n",
       "      <td>535</td>\n",
       "    </tr>\n",
       "    <tr>\n",
       "      <th>4342</th>\n",
       "      <td>BMW</td>\n",
       "      <td>8000.0</td>\n",
       "      <td>sedan</td>\n",
       "      <td>194</td>\n",
       "      <td>2.0</td>\n",
       "      <td>Petrol</td>\n",
       "      <td>yes</td>\n",
       "      <td>1985</td>\n",
       "      <td>520</td>\n",
       "    </tr>\n",
       "    <tr>\n",
       "      <th>4344</th>\n",
       "      <td>Volkswagen</td>\n",
       "      <td>13500.0</td>\n",
       "      <td>van</td>\n",
       "      <td>124</td>\n",
       "      <td>2.0</td>\n",
       "      <td>Diesel</td>\n",
       "      <td>yes</td>\n",
       "      <td>2013</td>\n",
       "      <td>T5 (Transporter)</td>\n",
       "    </tr>\n",
       "  </tbody>\n",
       "</table>\n",
       "<p>4025 rows × 9 columns</p>\n",
       "</div>"
      ],
      "text/plain": [
       "              Brand     Price       Body  Mileage  EngineV Engine Type  \\\n",
       "0               BMW    4200.0      sedan      277      2.0      Petrol   \n",
       "1     Mercedes-Benz    7900.0        van      427      2.9      Diesel   \n",
       "2     Mercedes-Benz   13300.0      sedan      358      5.0         Gas   \n",
       "3              Audi   23000.0  crossover      240      4.2      Petrol   \n",
       "4            Toyota   18300.0  crossover      120      2.0      Petrol   \n",
       "...             ...       ...        ...      ...      ...         ...   \n",
       "4339         Toyota   17900.0      sedan       35      1.6      Petrol   \n",
       "4340  Mercedes-Benz  125000.0      sedan        9      3.0      Diesel   \n",
       "4341            BMW    6500.0      sedan        1      3.5      Petrol   \n",
       "4342            BMW    8000.0      sedan      194      2.0      Petrol   \n",
       "4344     Volkswagen   13500.0        van      124      2.0      Diesel   \n",
       "\n",
       "     Registration  Year              Model  \n",
       "0             yes  1991                320  \n",
       "1             yes  1999       Sprinter 212  \n",
       "2             yes  2003              S 500  \n",
       "3             yes  2007                 Q7  \n",
       "4             yes  2011              Rav 4  \n",
       "...           ...   ...                ...  \n",
       "4339          yes  2014            Corolla  \n",
       "4340          yes  2014              S 350  \n",
       "4341          yes  1999                535  \n",
       "4342          yes  1985                520  \n",
       "4344          yes  2013  T5 (Transporter)   \n",
       "\n",
       "[4025 rows x 9 columns]"
      ]
     },
     "execution_count": 2,
     "metadata": {},
     "output_type": "execute_result"
    }
   ],
   "source": [
    "price = pd.read_csv('./cars.csv')\n",
    "price\n",
    "price.dropna()"
   ]
  },
  {
   "cell_type": "markdown",
   "metadata": {},
   "source": [
    "### *Select features to build the model*"
   ]
  },
  {
   "cell_type": "code",
   "execution_count": 3,
   "metadata": {},
   "outputs": [],
   "source": [
    "X = price['Year'].values"
   ]
  },
  {
   "cell_type": "code",
   "execution_count": 4,
   "metadata": {},
   "outputs": [
    {
     "data": {
      "text/plain": [
       "array([1991, 1999, 2003, ..., 1985, 2014, 2013])"
      ]
     },
     "execution_count": 4,
     "metadata": {},
     "output_type": "execute_result"
    }
   ],
   "source": [
    "X"
   ]
  },
  {
   "cell_type": "code",
   "execution_count": 5,
   "metadata": {},
   "outputs": [
    {
     "data": {
      "text/plain": [
       "numpy.ndarray"
      ]
     },
     "execution_count": 5,
     "metadata": {},
     "output_type": "execute_result"
    }
   ],
   "source": [
    "type(X)"
   ]
  },
  {
   "cell_type": "code",
   "execution_count": 6,
   "metadata": {},
   "outputs": [],
   "source": [
    "Y = price['Mileage'].values"
   ]
  },
  {
   "cell_type": "code",
   "execution_count": 7,
   "metadata": {},
   "outputs": [
    {
     "data": {
      "text/plain": [
       "array([277, 427, 358, ..., 194,  31, 124])"
      ]
     },
     "execution_count": 7,
     "metadata": {},
     "output_type": "execute_result"
    }
   ],
   "source": [
    "Y"
   ]
  },
  {
   "cell_type": "code",
   "execution_count": 8,
   "metadata": {},
   "outputs": [],
   "source": [
    "X = X.reshape(-1,1)"
   ]
  },
  {
   "cell_type": "code",
   "execution_count": 9,
   "metadata": {},
   "outputs": [
    {
     "data": {
      "text/plain": [
       "array([[1991],\n",
       "       [1999],\n",
       "       [2003],\n",
       "       ...,\n",
       "       [1985],\n",
       "       [2014],\n",
       "       [2013]])"
      ]
     },
     "execution_count": 9,
     "metadata": {},
     "output_type": "execute_result"
    }
   ],
   "source": [
    "X"
   ]
  },
  {
   "cell_type": "code",
   "execution_count": 10,
   "metadata": {},
   "outputs": [],
   "source": [
    "x_train, x_test, y_train, y_test = train_test_split(X, Y, train_size=0.8, test_size=0.2, random_state=100)"
   ]
  },
  {
   "cell_type": "code",
   "execution_count": 11,
   "metadata": {},
   "outputs": [
    {
     "data": {
      "image/png": "[encoded data removed]",
      "text/plain": [
       "<Figure size 432x288 with 1 Axes>"
      ]
     },
     "metadata": {
      "needs_background": "light"
     },
     "output_type": "display_data"
    }
   ],
   "source": [
    "%matplotlib inline\n",
    "plt.scatter(x_train, y_train, color='blue')\n",
    "plt.xlabel('Year')\n",
    "plt.ylabel('Mileage')\n",
    "plt.title('Training Data')\n",
    "plt.show()"
   ]
  },
  {
   "cell_type": "code",
   "execution_count": 12,
   "metadata": {},
   "outputs": [
    {
     "data": {
      "text/plain": [
       "array([[2012],\n",
       "       [2013],\n",
       "       [1999],\n",
       "       ...,\n",
       "       [2014],\n",
       "       [2003],\n",
       "       [2001]])"
      ]
     },
     "execution_count": 12,
     "metadata": {},
     "output_type": "execute_result"
    }
   ],
   "source": [
    "x_train"
   ]
  },
  {
   "cell_type": "markdown",
   "metadata": {},
   "source": [
    "### *Linear Regression Model*"
   ]
  },
  {
   "cell_type": "code",
   "execution_count": 13,
   "metadata": {},
   "outputs": [
    {
     "data": {
      "text/plain": [
       "LinearRegression()"
      ]
     },
     "execution_count": 13,
     "metadata": {},
     "output_type": "execute_result"
    }
   ],
   "source": [
    "model = LinearRegression()\n",
    "model.fit(x_train, y_train)\n"
   ]
  },
  {
   "cell_type": "code",
   "execution_count": 14,
   "metadata": {},
   "outputs": [],
   "source": [
    "y_predict = model.predict(x_test)"
   ]
  },
  {
   "cell_type": "code",
   "execution_count": 15,
   "metadata": {},
   "outputs": [
    {
     "data": {
      "text/plain": [
       "array([220.93239903, 103.15210827, 220.93239903,  81.73750995,\n",
       "        81.73750995, 199.51780071,  71.03021079, 328.00539063,\n",
       "       113.85940743, 178.10320239, 167.39590323, 167.39590323,\n",
       "       220.93239903, 220.93239903,  60.32291163, 220.93239903,\n",
       "       188.81050155,  71.03021079, 199.51780071, 210.22509987,\n",
       "       167.39590323,  81.73750995, 145.98130491,  92.44480911,\n",
       "       124.56670659, 103.15210827, 113.85940743, 124.56670659,\n",
       "       220.93239903, 263.76159567, 178.10320239, 220.93239903,\n",
       "        81.73750995, 103.15210827, 295.88349315, 253.05429651,\n",
       "       199.51780071,  60.32291163, 178.10320239, 370.83458727,\n",
       "       103.15210827, 220.93239903, 156.68860407, 145.98130491,\n",
       "       113.85940743,  92.44480911, 145.98130491, 156.68860407,\n",
       "       113.85940743,  60.32291163, 199.51780071,  81.73750995,\n",
       "       145.98130491, 145.98130491, 263.76159567, 156.68860407,\n",
       "       103.15210827, 220.93239903, 263.76159567, 113.85940743,\n",
       "       370.83458727, 156.68860407,  60.32291163, 113.85940743,\n",
       "       113.85940743, 167.39590323, 178.10320239, 370.83458727,\n",
       "       188.81050155, 220.93239903,  92.44480911, 145.98130491,\n",
       "       188.81050155, 263.76159567, 156.68860407, 113.85940743,\n",
       "       103.15210827,  81.73750995, 145.98130491, 220.93239903,\n",
       "       392.24918559, 263.76159567, 124.56670659, 242.34699735,\n",
       "        60.32291163, 113.85940743, 167.39590323, 167.39590323,\n",
       "       145.98130491, 263.76159567,  92.44480911, 145.98130491,\n",
       "        92.44480911, 145.98130491, 145.98130491, 124.56670659,\n",
       "       349.41998895,  71.03021079, 210.22509987, 103.15210827,\n",
       "        81.73750995, 124.56670659, 103.15210827, 113.85940743,\n",
       "       135.27400575, 135.27400575, 274.46889483, 263.76159567,\n",
       "       328.00539063,  81.73750995, 274.46889483, 178.10320239,\n",
       "       145.98130491, 103.15210827, 113.85940743, 135.27400575,\n",
       "       103.15210827, 135.27400575, 113.85940743, 103.15210827,\n",
       "       210.22509987, 145.98130491,  71.03021079,  92.44480911,\n",
       "       103.15210827, 253.05429651, 103.15210827, 145.98130491,\n",
       "       456.49298055, 167.39590323, 113.85940743, 103.15210827,\n",
       "       135.27400575, 103.15210827, 167.39590323, 113.85940743,\n",
       "        60.32291163,  92.44480911, 242.34699735, 263.76159567,\n",
       "       360.12728811, 145.98130491, 178.10320239, 167.39590323,\n",
       "       178.10320239, 145.98130491, 124.56670659, 145.98130491,\n",
       "       413.66378391, 210.22509987, 103.15210827, 103.15210827,\n",
       "       210.22509987, 145.98130491, 145.98130491, 178.10320239,\n",
       "       145.98130491, 156.68860407, 220.93239903, 317.29809147,\n",
       "       124.56670659, 135.27400575, 156.68860407, 103.15210827,\n",
       "        92.44480911, 145.98130491, 124.56670659, 263.76159567,\n",
       "       113.85940743,  71.03021079, 103.15210827, 145.98130491,\n",
       "       381.54188643, 167.39590323, 156.68860407, 242.34699735,\n",
       "       188.81050155,  60.32291163, 210.22509987, 306.59079231,\n",
       "       145.98130491, 145.98130491, 231.63969819, 199.51780071,\n",
       "       263.76159567, 253.05429651, 135.27400575, 178.10320239,\n",
       "       156.68860407, 210.22509987,  92.44480911,  92.44480911,\n",
       "       113.85940743, 231.63969819, 113.85940743, 167.39590323,\n",
       "       156.68860407, 124.56670659, 145.98130491, 199.51780071,\n",
       "       167.39590323, 178.10320239, 178.10320239, 156.68860407,\n",
       "       231.63969819, 231.63969819, 113.85940743, 145.98130491,\n",
       "       167.39590323,  60.32291163, 156.68860407, 360.12728811,\n",
       "       103.15210827,  92.44480911,  60.32291163, 145.98130491,\n",
       "       199.51780071,  92.44480911, 156.68860407, 263.76159567,\n",
       "       360.12728811, 178.10320239,  81.73750995,  81.73750995,\n",
       "       156.68860407, 167.39590323, 178.10320239, 253.05429651,\n",
       "       156.68860407, 199.51780071, 188.81050155, 231.63969819,\n",
       "       135.27400575, 145.98130491, 103.15210827, 145.98130491,\n",
       "       167.39590323, 145.98130491, 178.10320239,  60.32291163,\n",
       "       113.85940743, 156.68860407, 113.85940743, 188.81050155,\n",
       "       263.76159567, 263.76159567,  92.44480911,  81.73750995,\n",
       "       135.27400575,  71.03021079,  92.44480911, 103.15210827,\n",
       "       145.98130491, 188.81050155, 242.34699735, 103.15210827,\n",
       "       167.39590323, 145.98130491, 295.88349315,  60.32291163,\n",
       "       263.76159567, 242.34699735, 263.76159567, 135.27400575,\n",
       "       263.76159567,  60.32291163, 103.15210827, 124.56670659,\n",
       "       103.15210827, 220.93239903, 156.68860407,  92.44480911,\n",
       "       167.39590323, 103.15210827,  92.44480911, 135.27400575,\n",
       "       210.22509987, 392.24918559, 167.39590323, 103.15210827,\n",
       "       338.71268979, 103.15210827, 210.22509987, 113.85940743,\n",
       "       103.15210827,  92.44480911, 113.85940743, 167.39590323,\n",
       "       167.39590323, 156.68860407, 231.63969819, 135.27400575,\n",
       "       135.27400575, 103.15210827, 220.93239903, 113.85940743,\n",
       "       188.81050155, 113.85940743,  92.44480911, 156.68860407,\n",
       "        92.44480911,  71.03021079, 156.68860407, 145.98130491,\n",
       "       231.63969819, 145.98130491,  81.73750995, 392.24918559,\n",
       "       113.85940743, 263.76159567, 124.56670659,  92.44480911,\n",
       "       113.85940743, 199.51780071, 156.68860407, 156.68860407,\n",
       "       220.93239903, 103.15210827,  60.32291163,  71.03021079,\n",
       "       135.27400575, 210.22509987, 178.10320239,  60.32291163,\n",
       "       231.63969819, 145.98130491, 156.68860407, 156.68860407,\n",
       "       285.17619399, 135.27400575, 178.10320239,  71.03021079,\n",
       "       263.76159567,  71.03021079,  92.44480911, 113.85940743,\n",
       "       242.34699735, 360.12728811, 188.81050155,  92.44480911,\n",
       "       242.34699735, 349.41998895, 242.34699735, 167.39590323,\n",
       "        81.73750995, 145.98130491, 113.85940743, 285.17619399,\n",
       "       285.17619399, 135.27400575, 156.68860407,  71.03021079,\n",
       "       113.85940743,  81.73750995, 103.15210827, 167.39590323,\n",
       "       103.15210827, 167.39590323,  60.32291163, 145.98130491,\n",
       "       113.85940743,  81.73750995, 103.15210827, 188.81050155,\n",
       "        60.32291163, 242.34699735, 145.98130491, 135.27400575,\n",
       "       145.98130491, 156.68860407, 113.85940743, 231.63969819,\n",
       "       145.98130491, 113.85940743, 124.56670659, 156.68860407,\n",
       "        60.32291163, 167.39590323, 167.39590323, 113.85940743,\n",
       "       124.56670659,  81.73750995, 156.68860407, 103.15210827,\n",
       "       156.68860407,  60.32291163, 156.68860407,  81.73750995,\n",
       "       220.93239903, 103.15210827, 103.15210827, 145.98130491,\n",
       "       156.68860407,  81.73750995, 145.98130491,  92.44480911,\n",
       "       156.68860407, 263.76159567, 210.22509987,  60.32291163,\n",
       "        81.73750995, 360.12728811, 113.85940743,  60.32291163,\n",
       "        60.32291163, 317.29809147,  81.73750995, 220.93239903,\n",
       "       124.56670659, 145.98130491, 103.15210827, 156.68860407,\n",
       "       103.15210827, 124.56670659,  92.44480911, 145.98130491,\n",
       "       145.98130491, 338.71268979, 231.63969819, 178.10320239,\n",
       "       253.05429651, 210.22509987, 145.98130491, 145.98130491,\n",
       "       124.56670659, 167.39590323, 178.10320239, 113.85940743,\n",
       "       370.83458727, 242.34699735,  60.32291163, 178.10320239,\n",
       "       145.98130491, 295.88349315, 167.39590323, 178.10320239,\n",
       "       188.81050155, 145.98130491,  81.73750995, 145.98130491,\n",
       "       328.00539063, 220.93239903, 103.15210827,  81.73750995,\n",
       "       124.56670659, 145.98130491, 103.15210827, 274.46889483,\n",
       "       220.93239903, 156.68860407,  92.44480911, 103.15210827,\n",
       "       145.98130491, 124.56670659, 124.56670659, 113.85940743,\n",
       "       156.68860407, 167.39590323, 124.56670659,  60.32291163,\n",
       "       242.34699735, 113.85940743, 156.68860407, 145.98130491,\n",
       "        92.44480911, 124.56670659, 124.56670659,  92.44480911,\n",
       "       145.98130491,  71.03021079, 167.39590323, 145.98130491,\n",
       "       242.34699735, 124.56670659, 156.68860407, 135.27400575,\n",
       "       145.98130491, 306.59079231,  92.44480911,  92.44480911,\n",
       "       145.98130491, 124.56670659,  92.44480911, 199.51780071,\n",
       "       242.34699735, 135.27400575, 145.98130491, 145.98130491,\n",
       "       145.98130491, 231.63969819, 145.98130491, 156.68860407,\n",
       "       231.63969819, 103.15210827, 253.05429651, 156.68860407,\n",
       "       231.63969819,  60.32291163, 113.85940743, 220.93239903,\n",
       "       210.22509987, 113.85940743, 188.81050155, 156.68860407,\n",
       "       242.34699735, 145.98130491, 199.51780071, 210.22509987,\n",
       "       402.95648475, 220.93239903, 113.85940743, 231.63969819,\n",
       "       220.93239903,  60.32291163, 156.68860407, 263.76159567,\n",
       "       103.15210827, 113.85940743,  92.44480911, 220.93239903,\n",
       "       156.68860407, 317.29809147,  60.32291163,  71.03021079,\n",
       "       156.68860407, 360.12728811, 253.05429651, 295.88349315,\n",
       "        60.32291163, 145.98130491, 263.76159567,  71.03021079,\n",
       "       178.10320239, 328.00539063, 113.85940743, 145.98130491,\n",
       "       231.63969819, 135.27400575, 156.68860407, 370.83458727,\n",
       "       188.81050155, 210.22509987, 231.63969819, 145.98130491,\n",
       "       178.10320239, 156.68860407, 274.46889483, 103.15210827,\n",
       "       113.85940743, 103.15210827, 360.12728811, 156.68860407,\n",
       "       103.15210827, 274.46889483, 156.68860407, 145.98130491,\n",
       "       263.76159567, 103.15210827, 124.56670659, 167.39590323,\n",
       "       381.54188643, 156.68860407, 220.93239903, 178.10320239,\n",
       "       156.68860407, 210.22509987, 145.98130491, 220.93239903,\n",
       "       124.56670659, 145.98130491, 178.10320239, 145.98130491,\n",
       "        92.44480911,  60.32291163, 167.39590323, 167.39590323,\n",
       "       113.85940743,  71.03021079, 188.81050155,  71.03021079,\n",
       "       124.56670659,  92.44480911, 317.29809147, 242.34699735,\n",
       "       253.05429651, 145.98130491, 113.85940743, 113.85940743,\n",
       "        81.73750995, 113.85940743, 156.68860407, 210.22509987,\n",
       "        92.44480911,  71.03021079, 231.63969819, 135.27400575,\n",
       "       145.98130491, 156.68860407, 156.68860407, 220.93239903,\n",
       "        92.44480911, 113.85940743, 199.51780071, 306.59079231,\n",
       "       253.05429651, 113.85940743, 103.15210827, 178.10320239,\n",
       "       156.68860407, 145.98130491, 178.10320239, 113.85940743,\n",
       "        92.44480911, 156.68860407,  60.32291163, 199.51780071,\n",
       "       113.85940743, 253.05429651, 295.88349315, 210.22509987,\n",
       "       145.98130491, 231.63969819, 349.41998895,  81.73750995,\n",
       "       231.63969819, 253.05429651, 145.98130491, 231.63969819,\n",
       "       220.93239903, 113.85940743, 328.00539063, 199.51780071,\n",
       "       135.27400575, 145.98130491, 113.85940743, 145.98130491,\n",
       "       103.15210827, 210.22509987,  81.73750995,  81.73750995,\n",
       "       253.05429651, 188.81050155,  60.32291163, 328.00539063,\n",
       "        60.32291163, 263.76159567, 156.68860407, 145.98130491,\n",
       "       231.63969819, 178.10320239, 124.56670659, 242.34699735,\n",
       "        60.32291163, 156.68860407, 103.15210827, 113.85940743,\n",
       "       285.17619399,  92.44480911,  81.73750995, 295.88349315,\n",
       "       328.00539063, 145.98130491, 338.71268979,  60.32291163,\n",
       "       263.76159567, 113.85940743, 349.41998895, 113.85940743,\n",
       "       167.39590323,  92.44480911, 145.98130491, 145.98130491,\n",
       "        60.32291163, 103.15210827, 220.93239903, 145.98130491,\n",
       "       156.68860407, 103.15210827, 135.27400575, 156.68860407,\n",
       "       178.10320239, 328.00539063, 242.34699735, 135.27400575,\n",
       "       113.85940743, 156.68860407, 145.98130491, 295.88349315,\n",
       "       338.71268979,  92.44480911, 253.05429651, 220.93239903,\n",
       "       188.81050155, 145.98130491, 178.10320239, 156.68860407,\n",
       "       113.85940743,  60.32291163,  92.44480911,  92.44480911,\n",
       "       145.98130491, 135.27400575, 178.10320239, 156.68860407,\n",
       "       231.63969819, 220.93239903,  60.32291163,  81.73750995,\n",
       "       220.93239903, 210.22509987, 285.17619399, 103.15210827,\n",
       "        81.73750995, 124.56670659, 103.15210827, 167.39590323,\n",
       "       285.17619399, 178.10320239,  60.32291163,  71.03021079,\n",
       "        92.44480911, 113.85940743, 199.51780071, 210.22509987,\n",
       "       103.15210827, 274.46889483, 113.85940743, 135.27400575,\n",
       "       178.10320239, 188.81050155, 113.85940743,  71.03021079,\n",
       "       253.05429651,  60.32291163, 220.93239903, 167.39590323,\n",
       "       103.15210827, 145.98130491, 199.51780071, 103.15210827,\n",
       "       242.34699735, 188.81050155,  81.73750995, 145.98130491,\n",
       "       210.22509987,  60.32291163, 360.12728811,  71.03021079,\n",
       "        60.32291163, 167.39590323, 253.05429651, 135.27400575,\n",
       "       242.34699735, 103.15210827, 156.68860407,  81.73750995,\n",
       "       103.15210827, 188.81050155, 253.05429651,  92.44480911,\n",
       "       145.98130491, 167.39590323, 145.98130491, 231.63969819,\n",
       "       178.10320239, 274.46889483, 167.39590323, 188.81050155,\n",
       "       167.39590323, 188.81050155, 370.83458727, 103.15210827,\n",
       "       124.56670659,  81.73750995,  92.44480911,  92.44480911,\n",
       "       103.15210827,  60.32291163, 103.15210827, 306.59079231,\n",
       "       103.15210827, 338.71268979,  81.73750995, 113.85940743,\n",
       "       167.39590323, 103.15210827,  60.32291163, 113.85940743,\n",
       "       124.56670659, 103.15210827, 135.27400575,  60.32291163,\n",
       "       113.85940743, 156.68860407, 145.98130491, 167.39590323,\n",
       "       156.68860407, 156.68860407, 178.10320239, 145.98130491,\n",
       "        81.73750995, 220.93239903, 188.81050155, 178.10320239,\n",
       "       199.51780071, 349.41998895, 231.63969819, 124.56670659,\n",
       "        60.32291163, 145.98130491, 113.85940743, 145.98130491,\n",
       "       145.98130491, 156.68860407, 167.39590323, 113.85940743,\n",
       "        60.32291163,  92.44480911, 253.05429651, 113.85940743,\n",
       "       167.39590323, 103.15210827, 103.15210827, 145.98130491,\n",
       "       103.15210827, 167.39590323, 199.51780071, 199.51780071,\n",
       "       338.71268979, 178.10320239, 178.10320239, 135.27400575,\n",
       "       156.68860407,  60.32291163, 156.68860407, 103.15210827,\n",
       "       253.05429651, 103.15210827,  81.73750995, 103.15210827,\n",
       "       188.81050155, 124.56670659, 231.63969819, 285.17619399,\n",
       "        81.73750995,  60.32291163, 167.39590323, 178.10320239,\n",
       "        60.32291163,  92.44480911, 103.15210827,  92.44480911,\n",
       "       188.81050155, 285.17619399, 199.51780071, 103.15210827,\n",
       "        81.73750995, 445.78568139,  92.44480911, 210.22509987,\n",
       "       263.76159567, 220.93239903,  92.44480911, 231.63969819,\n",
       "       113.85940743,  92.44480911, 135.27400575,  92.44480911,\n",
       "       135.27400575])"
      ]
     },
     "execution_count": 15,
     "metadata": {},
     "output_type": "execute_result"
    }
   ],
   "source": [
    "y_predict"
   ]
  },
  {
   "cell_type": "code",
   "execution_count": 16,
   "metadata": {},
   "outputs": [
    {
     "data": {
      "text/plain": [
       "array([161, 160, 233,  45,  44, 242,  11,  50, 145, 185, 162, 161, 282,\n",
       "       200,   0, 280, 254,  24, 180, 275, 110,  42, 110,  80, 107,  71,\n",
       "       155, 115, 250, 320,  16, 178,  51, 170, 366, 400, 193,   0, 161,\n",
       "       400, 189, 232, 153,  99, 166,  86, 150, 138,  54,   0, 113,  98,\n",
       "       151,  83, 450, 200,  88, 270, 350, 134, 371,   1,   0, 138, 250,\n",
       "       185, 186, 122, 249, 168,  64, 204, 208, 280, 180, 139,  77,  55,\n",
       "       182, 245,  30, 235,  69, 250,   0, 123, 215, 127,  90, 300,  64,\n",
       "       184,  47,  95, 105, 177, 111,  39, 190, 146,  50, 630, 130, 170,\n",
       "        91, 167, 280, 367, 300,  69,   1, 220, 260, 193,  35, 181,  11,\n",
       "        83, 200, 125, 150, 130,   2,  12,  87, 340, 136, 440,  10, 222,\n",
       "       145,  62, 139,  44, 200, 157,   0, 147, 265, 280, 265, 128, 150,\n",
       "       160, 142, 147, 118, 120, 110,  80,  63, 166, 245, 184, 317, 100,\n",
       "        70, 152, 258, 345,  82,  47,  52, 140,  71, 125, 117, 280, 135,\n",
       "        22,  37,  47, 300, 135, 201, 300, 185,   1, 253,  78, 136, 230,\n",
       "       333, 255, 246, 255, 199, 215, 216, 290,  60, 177, 180, 295,  84,\n",
       "       185, 263, 110, 128, 280, 215,   1, 220, 170, 273, 200, 177, 137,\n",
       "       137,   0,   1, 430, 130,  92,   6, 149, 289,  55, 140, 319, 402,\n",
       "       232,  28,  42, 265, 273, 300, 177,  85, 260, 180, 300, 152,  98,\n",
       "       118, 121, 179, 220, 170,   0, 280, 266, 185, 261, 290, 300,  98,\n",
       "        69, 130,   0, 100, 109, 119, 284, 294,  73, 157, 130, 231,  30,\n",
       "       266, 260, 254, 233, 385,   0, 175, 120, 162, 202,  91,  16, 280,\n",
       "       220,  44, 164, 140,  33, 108,  90, 288, 164, 250, 130,  67,  42,\n",
       "        60, 218, 154,  53, 270, 270,  79,  48, 203, 127, 221, 198,  63,\n",
       "       245,  40,  25,  76, 210, 280, 150,  90, 390, 110, 230, 123, 150,\n",
       "       132, 158, 180, 128, 250, 157,   0,  38, 109, 300, 250,   3, 246,\n",
       "       139, 120, 145, 330, 198, 217,   5, 300,   0, 128, 180, 311, 504,\n",
       "       155,  51, 280, 380, 273, 153,  10,   1, 190,  67, 370,  48, 175,\n",
       "         0,  71,  26, 110, 230,   1, 190,   0, 180, 160,  25, 138, 183,\n",
       "         1, 199, 115,  99, 127, 200, 106, 240, 245, 148,  86, 104,   1,\n",
       "       217, 183,  98, 248,  56, 187,  37, 138,   0, 145,  43, 174,  73,\n",
       "       181, 250, 140,  25, 102,  86, 248, 460, 280,   0,  70, 386, 126,\n",
       "         2,   0, 350,  24, 118,  73, 115,  62, 215, 155, 810,  66,  25,\n",
       "       120, 390, 250, 151, 253, 110, 260, 127,  83, 210, 259, 128, 250,\n",
       "       298,   1,   1, 122, 400, 218, 180, 298, 118,  30, 231, 367, 375,\n",
       "       207,  34,  82, 170,  68, 360, 178, 198, 173,  80, 140, 117, 128,\n",
       "        82, 235, 200,  96,   2, 380, 147, 165, 118,  65,  90, 184, 128,\n",
       "       118,  32, 210,  96, 300, 175, 115, 221, 137, 314,  26,  81, 112,\n",
       "       104,  57, 198, 300, 144,  89, 185, 178, 272, 119,  98, 297, 179,\n",
       "       326, 179, 225,   0, 176,  22, 189, 206, 198, 117,  25, 148, 167,\n",
       "       256, 324, 240, 186, 320, 290,   0, 102, 470, 153, 184, 169, 240,\n",
       "       162, 350,   0,  33, 129, 421, 350, 220,   0, 132, 360,   1, 200,\n",
       "       250, 150,  98, 250, 135, 223, 297, 225, 220, 244,  90, 240, 192,\n",
       "       290, 140, 195, 107,  50, 178,  12, 270, 190, 152, 196, 140,  74,\n",
       "       250,   1, 194, 350, 222, 142, 254, 150, 317, 100, 123, 200, 171,\n",
       "       157,   0, 217, 218, 120,   8, 281,   0,  80,  61, 294, 250, 320,\n",
       "       130,  61,  55,  36, 152, 100, 240,  45,  40, 367,  84, 127, 191,\n",
       "       200, 345,  73, 122, 153, 257,  75, 153,  43, 184, 235, 234, 202,\n",
       "        65, 127, 151,   1, 225, 122, 300, 238, 260, 102, 400, 300,  40,\n",
       "       287, 200, 159, 219, 170, 115, 201, 176,  96, 114,  26, 163, 184,\n",
       "       245,   3,  30, 388, 250,  47, 338,   1, 106, 200, 120, 268, 580,\n",
       "       130, 300,   0, 185,  80,  60, 419, 195,  40, 200, 400, 360, 105,\n",
       "         0, 260, 161, 156,  98, 344, 106, 147, 133,   0,  79, 114, 171,\n",
       "       259, 162, 134, 200, 280, 277, 111,  94,  74, 150, 125, 295, 320,\n",
       "        44, 245, 125, 255, 140,  94, 216, 193,  20, 102,  80, 200, 102,\n",
       "       174, 245, 322, 197,   0,  49, 352, 225, 226, 120, 160, 100,  74,\n",
       "       186, 305, 170,   1,  30,  53,  65, 230, 243,  24, 177, 103, 144,\n",
       "       195, 224, 160,   4, 400,   0, 286, 200,  89, 255, 160, 135, 270,\n",
       "       205,   1, 158, 231,   0,   1,  35,   3,  92, 270, 130, 334,  70,\n",
       "       155,  12,  67, 210,   1,  86, 126, 170, 180, 271, 174, 300, 190,\n",
       "       135, 100, 230, 200, 127, 175,  80,  20,  73,  48,   0,  81, 360,\n",
       "       106, 290,  31,  90, 120, 122,   1,  73, 160, 137, 190,   0, 193,\n",
       "       192,  67, 200, 135,  72, 242, 119,  59, 300, 195, 226, 177, 400,\n",
       "       354, 103,   1, 152, 125, 111, 129, 140, 170,  68,   0,  55, 241,\n",
       "        74, 280,  93,  75, 187,  75, 197, 406, 158,  35, 248, 250, 100,\n",
       "       136,   1, 155, 157, 272, 170, 100,  76, 230,  90, 450, 380,  40,\n",
       "         5, 165, 203,   0,  37,  89,  45, 213, 210, 300,  73,  51,   1,\n",
       "       125, 260, 370, 250, 108, 250, 180,  43, 230,  30,  73])"
      ]
     },
     "execution_count": 16,
     "metadata": {},
     "output_type": "execute_result"
    }
   ],
   "source": [
    "\n",
    "y_test"
   ]
  },
  {
   "cell_type": "code",
   "execution_count": 17,
   "metadata": {},
   "outputs": [
    {
     "name": "stdout",
     "output_type": "stream",
     "text": [
      "Testing Accuracy: 40.535020026019374%\n"
     ]
    }
   ],
   "source": [
    "print(f'Testing Accuracy: {model.score(x_test, y_test)*100}%')"
   ]
  },
  {
   "cell_type": "markdown",
   "metadata": {},
   "source": [
    "\n",
    "- *The Conclusion that i come up to is ---> the number of years has nothing to do with the mileage, So let's say a care aged 2 years have walked milion miles.\n",
    "On the ohter hand, maybe an old car can have walked 200 miles*\n",
    "- **So there is no direct relation between the mileage and the year of the car ^.^**\n"
   ]
  },
  {
   "cell_type": "code",
   "execution_count": null,
   "metadata": {},
   "outputs": [],
   "source": []
  }
 ],
 "metadata": {
  "kernelspec": {
   "display_name": "Python 3",
   "language": "python",
   "name": "python3"
  },
  "language_info": {
   "codemirror_mode": {
    "name": "ipython",
    "version": 3
   },
   "file_extension": ".py",
   "mimetype": "text/x-python",
   "name": "python",
   "nbconvert_exporter": "python",
   "pygments_lexer": "ipython3",
   "version": "3.9.0"
  }
 },
 "nbformat": 4,
 "nbformat_minor": 4
}
